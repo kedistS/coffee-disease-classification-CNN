{
 "cells": [
  {
   "cell_type": "code",
   "execution_count": 3,
   "id": "01d1b154",
   "metadata": {},
   "outputs": [],
   "source": [
    "import shutil\n",
    "import os\n",
    "def remove_checkpoints(directory):\n",
    "    for root, dirs, files in os.walk(directory):\n",
    "        for dir in dirs:\n",
    "            if dir == '.ipynb_checkpoints':\n",
    "                shutil.rmtree(os.path.join(root, dir))"
   ]
  },
  {
   "cell_type": "code",
   "execution_count": 4,
   "id": "3915af44",
   "metadata": {},
   "outputs": [],
   "source": [
    "# Clean up the directories\n",
    "remove_checkpoints('ethiopian-dataset/train')\n",
    "remove_checkpoints('ethiopian-dataset/val')\n",
    "remove_checkpoints('ethiopian-dataset/test')\n"
   ]
  },
  {
   "cell_type": "code",
   "execution_count": null,
   "id": "1e554835",
   "metadata": {},
   "outputs": [],
   "source": []
  }
 ],
 "metadata": {
  "kernelspec": {
   "display_name": "Python 3 (ipykernel)",
   "language": "python",
   "name": "python3"
  },
  "language_info": {
   "codemirror_mode": {
    "name": "ipython",
    "version": 3
   },
   "file_extension": ".py",
   "mimetype": "text/x-python",
   "name": "python",
   "nbconvert_exporter": "python",
   "pygments_lexer": "ipython3",
   "version": "3.11.5"
  }
 },
 "nbformat": 4,
 "nbformat_minor": 5
}
