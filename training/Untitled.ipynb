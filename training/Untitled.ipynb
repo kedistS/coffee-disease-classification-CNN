{
 "cells": [
  {
   "cell_type": "code",
   "execution_count": 1,
   "id": "01d1b154",
   "metadata": {},
   "outputs": [],
   "source": [
    "import os\n",
    "import shutil\n",
    "\n",
    "def remove_checkpoints(directory):\n",
    "    for root, dirs, files in os.walk(directory):\n",
    "        if '.ipynb_checkpoints' in dirs:\n",
    "            checkpoint_path = os.path.join(root, '.ipynb_checkpoints')\n",
    "            shutil.rmtree(checkpoint_path)\n",
    "            print(f\"Removed: {checkpoint_path}\")"
   ]
  },
  {
   "cell_type": "code",
   "execution_count": 2,
   "id": "3915af44",
   "metadata": {},
   "outputs": [],
   "source": [
    "# Set the paths to your dataset directories\n",
    "train_dir = 'ethiopian-dataset/train'\n",
    "val_dir = 'ethiopian-dataset/val'\n",
    "test_dir = 'ethiopian-dataset/test'\n"
   ]
  },
  {
   "cell_type": "code",
   "execution_count": 3,
   "id": "1e554835",
   "metadata": {},
   "outputs": [],
   "source": [
    "# Remove .ipynb_checkpoints directories\n",
    "for directory in [train_dir, val_dir, test_dir]:\n",
    "    remove_checkpoints(directory)"
   ]
  },
  {
   "cell_type": "code",
   "execution_count": null,
   "id": "1bebbf30",
   "metadata": {},
   "outputs": [],
   "source": []
  }
 ],
 "metadata": {
  "kernelspec": {
   "display_name": "Python 3 (ipykernel)",
   "language": "python",
   "name": "python3"
  },
  "language_info": {
   "codemirror_mode": {
    "name": "ipython",
    "version": 3
   },
   "file_extension": ".py",
   "mimetype": "text/x-python",
   "name": "python",
   "nbconvert_exporter": "python",
   "pygments_lexer": "ipython3",
   "version": "3.9.19"
  }
 },
 "nbformat": 4,
 "nbformat_minor": 5
}
