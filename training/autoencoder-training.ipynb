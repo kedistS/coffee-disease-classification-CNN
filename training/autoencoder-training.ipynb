{
 "cells": [
  {
   "cell_type": "code",
   "execution_count": null,
   "id": "eb0c310f",
   "metadata": {},
   "outputs": [],
   "source": [
    "import os\n",
    "import numpy as np\n",
    "from PIL import Image\n",
    "from sklearn.model_selection import train_test_split\n",
    "import tensorflow as tf\n",
    "from tensorflow.keras.layers import Input, Conv2D, MaxPooling2D, UpSampling2D\n",
    "from tensorflow.keras.models import Model"
   ]
  },
  {
   "cell_type": "code",
   "execution_count": null,
   "id": "b9b6a88b",
   "metadata": {},
   "outputs": [],
   "source": [
    "# Set the paths to the dataset directories\n",
    "train_dir = 'dataset/train'\n",
    "test_dir = 'dataset/test'\n",
    "val_dir = 'dataset/val'"
   ]
  },
  {
   "cell_type": "code",
   "execution_count": null,
   "id": "27d129f9",
   "metadata": {},
   "outputs": [],
   "source": [
    "# Define the image dimensions and batch size\n",
    "IMAGE_SIZE = (128, 128)\n",
    "BATCH_SIZE = 32"
   ]
  },
  {
   "cell_type": "code",
   "execution_count": null,
   "id": "b02d5387",
   "metadata": {},
   "outputs": [],
   "source": [
    "# Create ImageDataGenerators for training, test, and validation sets\n",
    "train_datagen = tf.keras.preprocessing.image.ImageDataGenerator(rescale=1./255)\n",
    "test_datagen = tf.keras.preprocessing.image.ImageDataGenerator(rescale=1./255)\n",
    "val_datagen = tf.keras.preprocessing.image.ImageDataGenerator(rescale=1./255)\n"
   ]
  },
  {
   "cell_type": "code",
   "execution_count": null,
   "id": "496eb11e",
   "metadata": {},
   "outputs": [],
   "source": [
    "train_generator = train_datagen.flow_from_directory(\n",
    "    train_dir,\n",
    "    target_size=IMAGE_SIZE,\n",
    "    batch_size=BATCH_SIZE,\n",
    "    class_mode='input',  # Use 'input' mode for autoencoder\n",
    "    shuffle=True\n",
    ")\n"
   ]
  },
  {
   "cell_type": "code",
   "execution_count": null,
   "id": "ec54f980",
   "metadata": {},
   "outputs": [],
   "source": [
    "test_generator = test_datagen.flow_from_directory(\n",
    "    test_dir,\n",
    "    target_size=IMAGE_SIZE,\n",
    "    batch_size=BATCH_SIZE,\n",
    "    class_mode='input',  # Use 'input' mode for autoencoder\n",
    "    shuffle=False  # No need to shuffle test data\n",
    ")"
   ]
  },
  {
   "cell_type": "code",
   "execution_count": null,
   "id": "0b1fc2d1",
   "metadata": {},
   "outputs": [],
   "source": [
    "val_generator = val_datagen.flow_from_directory(\n",
    "    val_dir,\n",
    "    target_size=IMAGE_SIZE,\n",
    "    batch_size=BATCH_SIZE,\n",
    "    class_mode='input',  # Use 'input' mode for autoencoder\n",
    "    shuffle=False  # No need to shuffle validation data\n",
    ")"
   ]
  },
  {
   "cell_type": "code",
   "execution_count": null,
   "id": "9c3d9b7c",
   "metadata": {},
   "outputs": [],
   "source": [
    "# Define the input shape\n",
    "input_shape = train_generator.image_shape"
   ]
  },
  {
   "cell_type": "code",
   "execution_count": null,
   "id": "d876bfbc",
   "metadata": {},
   "outputs": [],
   "source": [
    "# Define the input tensor\n",
    "input_img = Input(shape=input_shape)\n"
   ]
  },
  {
   "cell_type": "code",
   "execution_count": null,
   "id": "69d76431",
   "metadata": {},
   "outputs": [],
   "source": [
    "# Encoder\n",
    "x = Conv2D(32, (3, 3), activation='relu', padding='same')(input_img)\n",
    "x = MaxPooling2D((2, 2), padding='same')(x)\n",
    "x = Conv2D(64, (3, 3), activation='relu', padding='same')(x)\n",
    "x = MaxPooling2D((2, 2), padding='same')(x)\n",
    "encoded = Conv2D(128, (3, 3), activation='relu', padding='same')(x)\n"
   ]
  },
  {
   "cell_type": "code",
   "execution_count": null,
   "id": "beb960b0",
   "metadata": {},
   "outputs": [],
   "source": [
    "# Decoder\n",
    "x = Conv2D(64, (3, 3), activation='relu', padding='same')(encoded)\n",
    "x = UpSampling2D((2, 2))(x)\n",
    "x = Conv2D(32, (3, 3), activation='relu', padding='same')(x)\n",
    "x = UpSampling2D((2, 2))(x)\n",
    "decoded = Conv2D(3, (3, 3), activation='sigmoid', padding='same')(x)\n"
   ]
  },
  {
   "cell_type": "code",
   "execution_count": null,
   "id": "a070b31d",
   "metadata": {},
   "outputs": [],
   "source": [
    "# Create the Autoencoder model\n",
    "autoencoder = Model(input_img, decoded)"
   ]
  },
  {
   "cell_type": "code",
   "execution_count": null,
   "id": "5a993eb8",
   "metadata": {},
   "outputs": [],
   "source": [
    "# Compile the model\n",
    "autoencoder.compile(optimizer='adam', loss='mean_squared_error')\n"
   ]
  },
  {
   "cell_type": "code",
   "execution_count": null,
   "id": "bce015d1",
   "metadata": {},
   "outputs": [],
   "source": [
    "# Train the Autoencoder\n",
    "history = autoencoder.fit(\n",
    "    train_generator,\n",
    "    epochs=20,\n",
    "    batch_size=BATCH_SIZE,\n",
    "    validation_data=val_generator\n",
    ")"
   ]
  },
  {
   "cell_type": "code",
   "execution_count": null,
   "id": "f5e48416",
   "metadata": {},
   "outputs": [],
   "source": [
    "# Evaluate the Autoencoder on the test set\n",
    "test_loss = autoencoder.evaluate(test_generator)\n"
   ]
  },
  {
   "cell_type": "code",
   "execution_count": null,
   "id": "7389e875",
   "metadata": {},
   "outputs": [],
   "source": [
    "# Save the trained Autoencoder model\n",
    "autoencoder.save('../autoencoder_model/autoencoder.keras')\n"
   ]
  }
 ],
 "metadata": {
  "kernelspec": {
   "display_name": "Python 3 (ipykernel)",
   "language": "python",
   "name": "python3"
  },
  "language_info": {
   "codemirror_mode": {
    "name": "ipython",
    "version": 3
   },
   "file_extension": ".py",
   "mimetype": "text/x-python",
   "name": "python",
   "nbconvert_exporter": "python",
   "pygments_lexer": "ipython3",
   "version": "3.11.5"
  }
 },
 "nbformat": 4,
 "nbformat_minor": 5
}
