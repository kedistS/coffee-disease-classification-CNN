{
 "cells": [
  {
   "cell_type": "code",
   "execution_count": 1,
   "id": "eb0c310f",
   "metadata": {},
   "outputs": [
    {
     "name": "stderr",
     "output_type": "stream",
     "text": [
      "2024-06-02 12:51:08.890562: I tensorflow/tsl/cuda/cudart_stub.cc:28] Could not find cuda drivers on your machine, GPU will not be used.\n",
      "2024-06-02 12:51:10.437208: E tensorflow/compiler/xla/stream_executor/cuda/cuda_dnn.cc:9342] Unable to register cuDNN factory: Attempting to register factory for plugin cuDNN when one has already been registered\n",
      "2024-06-02 12:51:10.437252: E tensorflow/compiler/xla/stream_executor/cuda/cuda_fft.cc:609] Unable to register cuFFT factory: Attempting to register factory for plugin cuFFT when one has already been registered\n",
      "2024-06-02 12:51:10.442118: E tensorflow/compiler/xla/stream_executor/cuda/cuda_blas.cc:1518] Unable to register cuBLAS factory: Attempting to register factory for plugin cuBLAS when one has already been registered\n",
      "2024-06-02 12:51:11.103564: I tensorflow/tsl/cuda/cudart_stub.cc:28] Could not find cuda drivers on your machine, GPU will not be used.\n",
      "2024-06-02 12:51:11.104804: I tensorflow/core/platform/cpu_feature_guard.cc:182] This TensorFlow binary is optimized to use available CPU instructions in performance-critical operations.\n",
      "To enable the following instructions: AVX2 FMA, in other operations, rebuild TensorFlow with the appropriate compiler flags.\n",
      "2024-06-02 12:51:15.585083: W tensorflow/compiler/tf2tensorrt/utils/py_utils.cc:38] TF-TRT Warning: Could not find TensorRT\n"
     ]
    }
   ],
   "source": [
    "import os\n",
    "import numpy as np\n",
    "from PIL import Image\n",
    "from sklearn.model_selection import train_test_split\n",
    "import tensorflow as tf\n",
    "from tensorflow.keras.layers import Input, Conv2D, MaxPooling2D, UpSampling2D\n",
    "from tensorflow.keras.models import Model"
   ]
  },
  {
   "cell_type": "code",
   "execution_count": 2,
   "id": "b9b6a88b",
   "metadata": {},
   "outputs": [],
   "source": [
    "# Set the paths to the dataset directories\n",
    "train_dir = 'dataset/train'\n",
    "test_dir = 'dataset/test'\n",
    "val_dir = 'dataset/val'"
   ]
  },
  {
   "cell_type": "code",
   "execution_count": 3,
   "id": "27d129f9",
   "metadata": {},
   "outputs": [],
   "source": [
    "# Define the image dimensions and batch size\n",
    "IMAGE_SIZE = (128, 128)\n",
    "BATCH_SIZE = 32"
   ]
  },
  {
   "cell_type": "code",
   "execution_count": 4,
   "id": "b02d5387",
   "metadata": {},
   "outputs": [],
   "source": [
    "# Create ImageDataGenerators for training, test, and validation sets\n",
    "train_datagen = tf.keras.preprocessing.image.ImageDataGenerator(rescale=1./255)\n",
    "test_datagen = tf.keras.preprocessing.image.ImageDataGenerator(rescale=1./255)\n",
    "val_datagen = tf.keras.preprocessing.image.ImageDataGenerator(rescale=1./255)\n"
   ]
  },
  {
   "cell_type": "code",
   "execution_count": 5,
   "id": "496eb11e",
   "metadata": {},
   "outputs": [
    {
     "name": "stdout",
     "output_type": "stream",
     "text": [
      "Found 40982 images belonging to 5 classes.\n"
     ]
    }
   ],
   "source": [
    "train_generator = train_datagen.flow_from_directory(\n",
    "    train_dir,\n",
    "    target_size=IMAGE_SIZE,\n",
    "    batch_size=BATCH_SIZE,\n",
    "    class_mode='input',  # Use 'input' mode for autoencoder\n",
    "    shuffle=True\n",
    ")\n"
   ]
  },
  {
   "cell_type": "code",
   "execution_count": 6,
   "id": "ec54f980",
   "metadata": {},
   "outputs": [
    {
     "name": "stdout",
     "output_type": "stream",
     "text": [
      "Found 11714 images belonging to 5 classes.\n"
     ]
    }
   ],
   "source": [
    "test_generator = test_datagen.flow_from_directory(\n",
    "    test_dir,\n",
    "    target_size=IMAGE_SIZE,\n",
    "    batch_size=BATCH_SIZE,\n",
    "    class_mode='input',  # Use 'input' mode for autoencoder\n",
    "    shuffle=False  # No need to shuffle test data\n",
    ")"
   ]
  },
  {
   "cell_type": "code",
   "execution_count": 7,
   "id": "0b1fc2d1",
   "metadata": {},
   "outputs": [
    {
     "name": "stdout",
     "output_type": "stream",
     "text": [
      "Found 5853 images belonging to 5 classes.\n"
     ]
    }
   ],
   "source": [
    "val_generator = val_datagen.flow_from_directory(\n",
    "    val_dir,\n",
    "    target_size=IMAGE_SIZE,\n",
    "    batch_size=BATCH_SIZE,\n",
    "    class_mode='input',  # Use 'input' mode for autoencoder\n",
    "    shuffle=False  # No need to shuffle validation data\n",
    ")"
   ]
  },
  {
   "cell_type": "code",
   "execution_count": 8,
   "id": "9c3d9b7c",
   "metadata": {},
   "outputs": [],
   "source": [
    "# Define the input shape\n",
    "input_shape = train_generator.image_shape"
   ]
  },
  {
   "cell_type": "code",
   "execution_count": 9,
   "id": "d876bfbc",
   "metadata": {},
   "outputs": [],
   "source": [
    "# Define the input tensor\n",
    "input_img = Input(shape=input_shape)\n"
   ]
  },
  {
   "cell_type": "code",
   "execution_count": 10,
   "id": "69d76431",
   "metadata": {},
   "outputs": [],
   "source": [
    "# Encoder\n",
    "x = Conv2D(32, (3, 3), activation='relu', padding='same')(input_img)\n",
    "x = MaxPooling2D((2, 2), padding='same')(x)\n",
    "x = Conv2D(64, (3, 3), activation='relu', padding='same')(x)\n",
    "x = MaxPooling2D((2, 2), padding='same')(x)\n",
    "encoded = Conv2D(128, (3, 3), activation='relu', padding='same')(x)\n"
   ]
  },
  {
   "cell_type": "code",
   "execution_count": 11,
   "id": "beb960b0",
   "metadata": {},
   "outputs": [],
   "source": [
    "# Decoder\n",
    "x = Conv2D(64, (3, 3), activation='relu', padding='same')(encoded)\n",
    "x = UpSampling2D((2, 2))(x)\n",
    "x = Conv2D(32, (3, 3), activation='relu', padding='same')(x)\n",
    "x = UpSampling2D((2, 2))(x)\n",
    "decoded = Conv2D(3, (3, 3), activation='sigmoid', padding='same')(x)\n"
   ]
  },
  {
   "cell_type": "code",
   "execution_count": 12,
   "id": "a070b31d",
   "metadata": {},
   "outputs": [],
   "source": [
    "# Create the Autoencoder model\n",
    "autoencoder = Model(input_img, decoded)"
   ]
  },
  {
   "cell_type": "code",
   "execution_count": 13,
   "id": "5a993eb8",
   "metadata": {},
   "outputs": [],
   "source": [
    "# Compile the model\n",
    "autoencoder.compile(optimizer='adam', loss='mean_squared_error')\n"
   ]
  },
  {
   "cell_type": "code",
   "execution_count": 14,
   "id": "bce015d1",
   "metadata": {},
   "outputs": [
    {
     "name": "stdout",
     "output_type": "stream",
     "text": [
      "Epoch 1/20\n",
      "1281/1281 [==============================] - 1038s 808ms/step - loss: 0.0021 - val_loss: 7.9496e-04\n",
      "Epoch 2/20\n",
      "1281/1281 [==============================] - 1029s 803ms/step - loss: 7.3837e-04 - val_loss: 6.8797e-04\n",
      "Epoch 3/20\n",
      "1281/1281 [==============================] - 1027s 802ms/step - loss: 6.1062e-04 - val_loss: 5.6369e-04\n",
      "Epoch 4/20\n",
      "1281/1281 [==============================] - 1026s 801ms/step - loss: 5.5227e-04 - val_loss: 4.9225e-04\n",
      "Epoch 5/20\n",
      "1281/1281 [==============================] - 1019s 795ms/step - loss: 5.0064e-04 - val_loss: 4.2752e-04\n",
      "Epoch 6/20\n",
      "1281/1281 [==============================] - 1039s 811ms/step - loss: 4.6980e-04 - val_loss: 4.4478e-04\n",
      "Epoch 7/20\n",
      "1281/1281 [==============================] - 1017s 794ms/step - loss: 4.3852e-04 - val_loss: 4.1991e-04\n",
      "Epoch 8/20\n",
      "1281/1281 [==============================] - 1022s 798ms/step - loss: 4.1642e-04 - val_loss: 8.1731e-04\n",
      "Epoch 9/20\n",
      "1281/1281 [==============================] - 1016s 793ms/step - loss: 3.9121e-04 - val_loss: 3.5006e-04\n",
      "Epoch 10/20\n",
      "1281/1281 [==============================] - 1007s 786ms/step - loss: 3.6369e-04 - val_loss: 3.6531e-04\n",
      "Epoch 11/20\n",
      "1281/1281 [==============================] - 1019s 796ms/step - loss: 3.5830e-04 - val_loss: 3.1782e-04\n",
      "Epoch 12/20\n",
      "1281/1281 [==============================] - 1023s 798ms/step - loss: 3.4382e-04 - val_loss: 3.0344e-04\n",
      "Epoch 13/20\n",
      "1281/1281 [==============================] - 1021s 797ms/step - loss: 3.2743e-04 - val_loss: 3.0557e-04\n",
      "Epoch 14/20\n",
      "1281/1281 [==============================] - 1018s 795ms/step - loss: 3.1949e-04 - val_loss: 2.8983e-04\n",
      "Epoch 15/20\n",
      "1281/1281 [==============================] - 1016s 793ms/step - loss: 3.0904e-04 - val_loss: 3.0864e-04\n",
      "Epoch 16/20\n",
      "1281/1281 [==============================] - 1024s 799ms/step - loss: 3.0295e-04 - val_loss: 2.7508e-04\n",
      "Epoch 17/20\n",
      "1281/1281 [==============================] - 1023s 798ms/step - loss: 2.9450e-04 - val_loss: 2.5838e-04\n",
      "Epoch 18/20\n",
      "1281/1281 [==============================] - 1021s 797ms/step - loss: 2.8930e-04 - val_loss: 2.6363e-04\n",
      "Epoch 19/20\n",
      "1281/1281 [==============================] - 1026s 801ms/step - loss: 2.8256e-04 - val_loss: 2.9733e-04\n",
      "Epoch 20/20\n",
      "1281/1281 [==============================] - 1025s 800ms/step - loss: 2.8377e-04 - val_loss: 2.8109e-04\n"
     ]
    }
   ],
   "source": [
    "# Train the Autoencoder\n",
    "history = autoencoder.fit(\n",
    "    train_generator,\n",
    "    epochs=20,\n",
    "    batch_size=BATCH_SIZE,\n",
    "    validation_data=val_generator\n",
    ")"
   ]
  },
  {
   "cell_type": "code",
   "execution_count": 15,
   "id": "f5e48416",
   "metadata": {},
   "outputs": [
    {
     "name": "stdout",
     "output_type": "stream",
     "text": [
      "367/367 [==============================] - 49s 134ms/step - loss: 2.8548e-04\n"
     ]
    }
   ],
   "source": [
    "# Evaluate the Autoencoder on the test set\n",
    "test_loss = autoencoder.evaluate(test_generator)\n"
   ]
  },
  {
   "cell_type": "code",
   "execution_count": 16,
   "id": "7389e875",
   "metadata": {},
   "outputs": [],
   "source": [
    "# Save the trained Autoencoder model\n",
    "autoencoder.save('../autoencoder_model/autoencoder.keras')\n"
   ]
  },
  {
   "cell_type": "code",
   "execution_count": null,
   "id": "a52ea8b0",
   "metadata": {},
   "outputs": [],
   "source": []
  }
 ],
 "metadata": {
  "kernelspec": {
   "display_name": "Python 3 (ipykernel)",
   "language": "python",
   "name": "python3"
  },
  "language_info": {
   "codemirror_mode": {
    "name": "ipython",
    "version": 3
   },
   "file_extension": ".py",
   "mimetype": "text/x-python",
   "name": "python",
   "nbconvert_exporter": "python",
   "pygments_lexer": "ipython3",
   "version": "3.9.19"
  }
 },
 "nbformat": 4,
 "nbformat_minor": 5
}
